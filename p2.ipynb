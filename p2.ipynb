{
  "nbformat": 4,
  "nbformat_minor": 0,
  "metadata": {
    "colab": {
      "provenance": [],
      "authorship_tag": "ABX9TyPZkX6sjrp//GXrbcronvvU",
      "include_colab_link": true
    },
    "kernelspec": {
      "name": "python3",
      "display_name": "Python 3"
    },
    "language_info": {
      "name": "python"
    }
  },
  "cells": [
    {
      "cell_type": "markdown",
      "metadata": {
        "id": "view-in-github",
        "colab_type": "text"
      },
      "source": [
        "<a href=\"https://colab.research.google.com/github/Srija-koyya/Text-summarization/blob/main/p2.ipynb\" target=\"_parent\"><img src=\"https://colab.research.google.com/assets/colab-badge.svg\" alt=\"Open In Colab\"/></a>"
      ]
    },
    {
      "cell_type": "code",
      "execution_count": 1,
      "metadata": {
        "id": "vGYp-TUEBj_w",
        "colab": {
          "base_uri": "https://localhost:8080/"
        },
        "outputId": "052c1c9c-5cb8-455a-d590-69a6d56cb76a"
      },
      "outputs": [
        {
          "output_type": "stream",
          "name": "stderr",
          "text": [
            "[nltk_data] Downloading package punkt_tab to /root/nltk_data...\n",
            "[nltk_data]   Unzipping tokenizers/punkt_tab.zip.\n",
            "[nltk_data] Downloading package stopwords to /root/nltk_data...\n",
            "[nltk_data]   Unzipping corpora/stopwords.zip.\n"
          ]
        },
        {
          "output_type": "execute_result",
          "data": {
            "text/plain": [
              "True"
            ]
          },
          "metadata": {},
          "execution_count": 1
        }
      ],
      "source": [
        "import nltk\n",
        "nltk.download('punkt_tab')\n",
        "nltk.download('stopwords')"
      ]
    },
    {
      "cell_type": "code",
      "source": [
        "pip install nltk"
      ],
      "metadata": {
        "colab": {
          "base_uri": "https://localhost:8080/"
        },
        "id": "ynbTPWKeeBuf",
        "outputId": "27bc1ce1-ec6a-48f0-985b-5fbd3e96c388"
      },
      "execution_count": 2,
      "outputs": [
        {
          "output_type": "stream",
          "name": "stdout",
          "text": [
            "Requirement already satisfied: nltk in /usr/local/lib/python3.12/dist-packages (3.9.1)\n",
            "Requirement already satisfied: click in /usr/local/lib/python3.12/dist-packages (from nltk) (8.2.1)\n",
            "Requirement already satisfied: joblib in /usr/local/lib/python3.12/dist-packages (from nltk) (1.5.2)\n",
            "Requirement already satisfied: regex>=2021.8.3 in /usr/local/lib/python3.12/dist-packages (from nltk) (2024.11.6)\n",
            "Requirement already satisfied: tqdm in /usr/local/lib/python3.12/dist-packages (from nltk) (4.67.1)\n"
          ]
        }
      ]
    },
    {
      "cell_type": "code",
      "source": [
        "pip install PyPDF2 nltk"
      ],
      "metadata": {
        "colab": {
          "base_uri": "https://localhost:8080/"
        },
        "id": "h-56wDRMeIR6",
        "outputId": "02fe72c7-6800-4f68-cb50-e9a5c611a8b4"
      },
      "execution_count": 3,
      "outputs": [
        {
          "output_type": "stream",
          "name": "stdout",
          "text": [
            "Collecting PyPDF2\n",
            "  Downloading pypdf2-3.0.1-py3-none-any.whl.metadata (6.8 kB)\n",
            "Requirement already satisfied: nltk in /usr/local/lib/python3.12/dist-packages (3.9.1)\n",
            "Requirement already satisfied: click in /usr/local/lib/python3.12/dist-packages (from nltk) (8.2.1)\n",
            "Requirement already satisfied: joblib in /usr/local/lib/python3.12/dist-packages (from nltk) (1.5.2)\n",
            "Requirement already satisfied: regex>=2021.8.3 in /usr/local/lib/python3.12/dist-packages (from nltk) (2024.11.6)\n",
            "Requirement already satisfied: tqdm in /usr/local/lib/python3.12/dist-packages (from nltk) (4.67.1)\n",
            "Downloading pypdf2-3.0.1-py3-none-any.whl (232 kB)\n",
            "\u001b[2K   \u001b[90m━━━━━━━━━━━━━━━━━━━━━━━━━━━━━━━━━━━━━━━━\u001b[0m \u001b[32m232.6/232.6 kB\u001b[0m \u001b[31m4.2 MB/s\u001b[0m eta \u001b[36m0:00:00\u001b[0m\n",
            "\u001b[?25hInstalling collected packages: PyPDF2\n",
            "Successfully installed PyPDF2-3.0.1\n"
          ]
        }
      ]
    },
    {
      "cell_type": "code",
      "source": [
        "import PyPDF2\n",
        "import nltk\n",
        "import numpy as np\n",
        "from nltk.tokenize import sent_tokenize\n",
        "from sklearn.feature_extraction.text import TfidfVectorizer\n",
        "from sklearn.metrics.pairwise import cosine_similarity\n",
        "\n",
        "# Download NLTK tokenizer\n",
        "\n",
        "# Function to extract text from PDF\n",
        "def extract_text_from_pdf(pdf_path):\n",
        "    text = \"\"\n",
        "    with open(pdf_path, 'rb') as file:\n",
        "        reader = PyPDF2.PdfReader(file)\n",
        "        for page in reader.pages:\n",
        "            page_text = page.extract_text()\n",
        "            if page_text:\n",
        "                text += page_text\n",
        "    return text\n",
        "\n",
        "# Function to summarize text using TF-IDF + cosine similarity\n",
        "def summarize_text(text, num_sentences=5):\n",
        "    sentences = sent_tokenize(text)\n",
        "    if len(sentences) <= num_sentences:\n",
        "        return text\n",
        "\n",
        "    # Create TF-IDF matrix\n",
        "    vectorizer = TfidfVectorizer()\n",
        "    tfidf_matrix = vectorizer.fit_transform(sentences)\n",
        "\n",
        "    # Compute similarity scores with the first sentence\n",
        "    similarity_scores = cosine_similarity(tfidf_matrix[0:1], tfidf_matrix).flatten()\n",
        "\n",
        "    # Get top-ranked sentences (excluding the first one)\n",
        "    top_indices = similarity_scores.argsort()[-num_sentences:]\n",
        "    top_indices.sort()  # Preserve original order\n",
        "\n",
        "    # Combine top sentences\n",
        "    summary = ' '.join([sentences[i] for i in top_indices])\n",
        "    return summary\n",
        "\n",
        "# Main execution\n",
        "\n",
        "# Replace this with the path to your PDF\n",
        "\n",
        "# Step 1: Extract text\n",
        "text = extract_text_from_pdf(\"/content/IRDT-UNIT-I.pdf\")\n",
        "\n",
        "# Step 2: Summarize text\n",
        "summary = summarize_text(text, num_sentences=5)\n",
        "\n",
        "# Step 3: Display summary\n",
        "print(\"\\n=== PDF Summary ===\\n\")\n",
        "print(summary)"
      ],
      "metadata": {
        "colab": {
          "base_uri": "https://localhost:8080/"
        },
        "id": "bK7AJjsu_aVI",
        "outputId": "844f576d-652f-4b55-9df8-c049aa513bc2"
      },
      "execution_count": 5,
      "outputs": [
        {
          "output_type": "stream",
          "name": "stdout",
          "text": [
            "\n",
            "=== PDF Summary ===\n",
            "\n",
            "INTELLIGENT ROBOTS AND DRONE TECHNOLOGY\n",
            "(20IO73A5)\n",
            "UNIT -1:\n",
            "•Intelligent Robotics: Mechanism for Robotic, Application Using \n",
            "Artificial Neural Network and PID, Modelling the Robot, Simulation \n",
            "with ANN. •Integration of Wireless Sensor Network in Robotics:\n",
            "•Wireless Sensor Network, Main Components of a Robot, \n",
            "Collaboration Between WSNs and Robotics\n",
            "1Unit -I\n",
            "What is Robot? 40Artificial Neural network(ANN) \n",
            "and \n",
            "PID  Control\n",
            "41Artificial Neural Networks (ANNs )\n",
            "•A neural network is a group of interconnected units called neurons \n",
            "that send signals to one another. 46Simulation with ANN\n",
            "•Artificial Neural Networks (ANNs) plays a significant role in robotics, \n",
            "especially in simulations. •Implementation: ANN for path planning and object recognition; PID for \n",
            "steering and speed control.\n"
          ]
        }
      ]
    }
  ]
}